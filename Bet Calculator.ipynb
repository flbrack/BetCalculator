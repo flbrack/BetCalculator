{
 "cells": [
  {
   "cell_type": "code",
   "execution_count": 1,
   "metadata": {},
   "outputs": [],
   "source": [
    "class Bet:\n",
    "    \n",
    "    def __init__(self, stakes=1, odds=[1], ew=True, ewterms=[0.25], winner=[True]):\n",
    "        self.stakes = stakes\n",
    "        self.odds = odds\n",
    "        self.ew = ew\n",
    "        self.winner = winner # win or place; win = True, place = False\n",
    "        \n",
    "        self.decodds = list(map(lambda x:x+1, odds))\n",
    "        self.placeodds = list(map(lambda x,y : x*y+1,odds,ewterms))\n",
    "        self.fullodds = reduce(lambda x,y:x*y, self.decodds)\n",
    "        self.fullplaceodds = reduce(lambda x,y:x*y, self.placeodds)\n",
    "        self.winpart = reduce(lambda x,y:x*y, self.winner)\n",
    "    \n",
    "    def totalstakes(self):\n",
    "        return self.stakes + self.stakes*self.ew"
   ]
  },
  {
   "cell_type": "code",
   "execution_count": 144,
   "metadata": {},
   "outputs": [],
   "source": [
    "from functools import reduce"
   ]
  },
  {
   "cell_type": "code",
   "execution_count": 262,
   "metadata": {},
   "outputs": [],
   "source": [
    "class Accum(Bet):\n",
    "    \n",
    "    def __init__(self, stakes=1, odds=[1], ew=True, ewterms=[0.25], winner=[True]):\n",
    "        Bet.__init__(self,stakes,odds,ew,ewterms,winner)\n",
    "        \n",
    "    def payout(self):\n",
    "        return self.winpart*self.stakes*self.fullodds + self.ew*self.stakes*self.fullplaceodds"
   ]
  },
  {
   "cell_type": "code",
   "execution_count": 185,
   "metadata": {},
   "outputs": [],
   "source": [
    "ff = Accum(stakes=10,odds=[4,5],ew=True,ewterms=[0.2,0.25],winner=[1,0])"
   ]
  },
  {
   "cell_type": "code",
   "execution_count": 186,
   "metadata": {},
   "outputs": [
    {
     "data": {
      "text/plain": [
       "40.5"
      ]
     },
     "execution_count": 186,
     "metadata": {},
     "output_type": "execute_result"
    }
   ],
   "source": [
    "ff.payout()"
   ]
  },
  {
   "cell_type": "code",
   "execution_count": 268,
   "metadata": {},
   "outputs": [],
   "source": [
    "class Multiple(Accum):\n",
    "    \n",
    "    def __init__(self, stakes = 1, odds = [1,1,1,1], ew=[True], ewterms=[0.25,0.25,0.25,0.25],\n",
    "                 winner=[True,True,True,True]):\n",
    "        Accum.__init__(self,stakes,odds,ew,ewterms,winner)\n",
    "        \n",
    "        self.bfsplusone = list(map(lambda x:x+1,self.decodds))\n",
    "        self.fullbfspone = reduce(lambda x,y:x*y, self.bfsplusone)\n",
    "        \n",
    "        self.placebfplusone = list(map(lambda x:x+1, self.placeodds))\n",
    "        self.fullplacebfspone = reduce(lambda x,y:x*y, self.placebfplusone)"
   ]
  },
  {
   "cell_type": "code",
   "execution_count": 269,
   "metadata": {},
   "outputs": [],
   "source": [
    "class LuckyFifteen(Multiple):\n",
    "    \n",
    "    def __init__(self, stakes, odds, ew, ewterms, winner):\n",
    "        Multiple.__init__(self,stakes,odds,ew,ewterms,winner)\n",
    "        \n",
    "    def payout(self):\n",
    "        return self.winpart*self.stakes*(self.fullbfspone-1) + self.ew*self.stakes*(self.fullplacebfspone-1)\n",
    "    \n",
    "    def totalstakes(self):\n",
    "        pass"
   ]
  },
  {
   "cell_type": "code",
   "execution_count": 285,
   "metadata": {},
   "outputs": [],
   "source": [
    "class Yankee(Multiple):\n",
    "    \n",
    "    def __init__(self, stakes, odds, ew, ewterms, winner):\n",
    "        Multiple.__init__(self,stakes,odds,ew,ewterms,winner)\n",
    "        \n",
    "    def payout(self):\n",
    "        return self.winpart*self.stakes*(self.fullbfspone-1-reduce(lambda x,y:x+y,self.decodds)) \\\n",
    "                + self.ew*self.stakes*(self.fullplacebfspone-1-reduce(lambda x,y:x+y,self.placeodds))\n",
    "    \n",
    "    def totalstakes(self):\n",
    "        pass"
   ]
  },
  {
   "cell_type": "code",
   "execution_count": 286,
   "metadata": {},
   "outputs": [],
   "source": [
    "dd = Yankee(stakes=10,odds=[4,5,2,3],ew=False,ewterms=[0.25,0.25,0.25,0.25],winner=[True,True,True,True])"
   ]
  },
  {
   "cell_type": "code",
   "execution_count": 288,
   "metadata": {},
   "outputs": [
    {
     "data": {
      "text/plain": [
       "8210.0"
      ]
     },
     "execution_count": 288,
     "metadata": {},
     "output_type": "execute_result"
    }
   ],
   "source": [
    "dd.payout()"
   ]
  },
  {
   "cell_type": "code",
   "execution_count": 258,
   "metadata": {},
   "outputs": [
    {
     "name": "stdout",
     "output_type": "stream",
     "text": [
      "What type of bet is it? Choose from the following options: \n",
      "Single;\n",
      "Double;\n",
      "Treble;\n",
      "Accum;\n",
      "f\n",
      "\n",
      "What is your stake?\n",
      "4\n",
      "Enter the odds : 4\n",
      "Is it an each-way bet? (y/n): 4\n",
      "Enter the  each-way terms : 4\n",
      "Did the horse(s) win or place? : True\n"
     ]
    },
    {
     "ename": "TypeError",
     "evalue": "'bool' object is not iterable",
     "output_type": "error",
     "traceback": [
      "\u001b[0;31m---------------------------------------------------------------------------\u001b[0m",
      "\u001b[0;31mTypeError\u001b[0m                                 Traceback (most recent call last)",
      "\u001b[0;32m<ipython-input-258-766fa2c94089>\u001b[0m in \u001b[0;36m<module>\u001b[0;34m\u001b[0m\n\u001b[1;32m     19\u001b[0m \u001b[0;34m\u001b[0m\u001b[0m\n\u001b[1;32m     20\u001b[0m \u001b[0minwin\u001b[0m \u001b[0;34m=\u001b[0m \u001b[0;34m[\u001b[0m\u001b[0;34m]\u001b[0m\u001b[0;34m\u001b[0m\u001b[0;34m\u001b[0m\u001b[0m\n\u001b[0;32m---> 21\u001b[0;31m \u001b[0minwin\u001b[0m \u001b[0;34m=\u001b[0m \u001b[0;34m[\u001b[0m\u001b[0mitem\u001b[0m \u001b[0;32mfor\u001b[0m \u001b[0mitem\u001b[0m \u001b[0;32min\u001b[0m \u001b[0mbool\u001b[0m\u001b[0;34m(\u001b[0m\u001b[0minput\u001b[0m\u001b[0;34m(\u001b[0m\u001b[0;34m\"Did the horse(s) win or place? : \"\u001b[0m\u001b[0;34m)\u001b[0m\u001b[0;34m.\u001b[0m\u001b[0msplit\u001b[0m\u001b[0;34m(\u001b[0m\u001b[0;34m)\u001b[0m\u001b[0;34m)\u001b[0m\u001b[0;34m]\u001b[0m\u001b[0;34m\u001b[0m\u001b[0;34m\u001b[0m\u001b[0m\n\u001b[0m\u001b[1;32m     22\u001b[0m \u001b[0mprint\u001b[0m\u001b[0;34m(\u001b[0m\u001b[0minwin\u001b[0m\u001b[0;34m)\u001b[0m\u001b[0;34m\u001b[0m\u001b[0;34m\u001b[0m\u001b[0m\n",
      "\u001b[0;31mTypeError\u001b[0m: 'bool' object is not iterable"
     ]
    }
   ],
   "source": [
    "bettype = str(input(\"What type of bet is it? Choose from the following options: \\nSingle;\\nDouble;\\nTreble;\\nAccum;\\n\"))\n",
    "\n",
    "instake = float(input(\"\\nWhat is your stake?\\n\"))\n",
    "\n",
    "\n",
    "inodds = []\n",
    "inodds = [item for item in input(\"Enter the odds : \").split()]\n",
    "inodds = [reduce(lambda x,y:x/y, list(map(int,item.split('/')))) for item in inodds]\n",
    "\n",
    "\n",
    "inew = str(input(\"Is it an each-way bet? (y/n): \"))\n",
    "\n",
    "if inew != 'y' or 'Y' or 'Yes' or 'yes':\n",
    "    inew = True\n",
    "    \n",
    "interms = []\n",
    "interms = [item for item in input(\"Enter the  each-way terms : \").split()]\n",
    "interms = [reduce(lambda x,y:x/y, list(map(int,item.split('/')))) for item in interms]\n",
    "\n",
    "inwin = []\n",
    "inwin = [item for item in input(\"Did the horse(s) win or place? : \").split()]\n",
    "print(inwin)"
   ]
  },
  {
   "cell_type": "code",
   "execution_count": 257,
   "metadata": {},
   "outputs": [
    {
     "data": {
      "text/plain": [
       "True"
      ]
     },
     "execution_count": 257,
     "metadata": {},
     "output_type": "execute_result"
    }
   ],
   "source": [
    "bool('True')"
   ]
  },
  {
   "cell_type": "code",
   "execution_count": 236,
   "metadata": {},
   "outputs": [
    {
     "name": "stdout",
     "output_type": "stream",
     "text": [
      "Enter the odds : 4/7 5/1 9/2\n"
     ]
    }
   ],
   "source": [
    "inodds = []\n",
    "inodds = [item for item in input(\"Enter the odds : \").split()]\n",
    "inodds = [reduce(lambda x,y:x/y, list(map(int,item.split('/')))) for item in inodds]"
   ]
  },
  {
   "cell_type": "code",
   "execution_count": 237,
   "metadata": {},
   "outputs": [
    {
     "data": {
      "text/plain": [
       "[0.5714285714285714, 5.0, 4.5]"
      ]
     },
     "execution_count": 237,
     "metadata": {},
     "output_type": "execute_result"
    }
   ],
   "source": [
    "inodds"
   ]
  },
  {
   "cell_type": "code",
   "execution_count": 259,
   "metadata": {},
   "outputs": [],
   "source": [
    "from tkinter import *\n",
    "\n",
    "\n",
    "\n",
    "\n",
    "#Create a bet calculator class\n",
    "class BetCalculator:\n",
    "\n",
    "\n",
    "\n",
    "\n",
    "    #Step 2 and 3: create the first method\n",
    "    def __init__(self, master):\n",
    "\n",
    "        '''\n",
    "        DOCSTRING: Define what to do on initialization\n",
    "        '''\n",
    "\n",
    "        #Step 4: Assign reference to the main window of the application\n",
    "        self.master = master\n",
    "\n",
    "        #Step 4: Add a name to our application\n",
    "        master.title(\"Bet Calculator\")\n",
    "\n",
    "\n",
    "\n",
    "\n",
    "#Step 5: Execution\n",
    "if __name__=='__main__':\n",
    "    \n",
    "    #Step 6: Create the main window of an application\n",
    "    root = Tk()\n",
    "    \n",
    "    #Step 6: Tell our calculator class to use this window\n",
    "    my_gui = BetCalculator(root)\n",
    "    \n",
    "    #Step 6: Executable loop on the application, waits for user input\n",
    "    root.mainloop()\n"
   ]
  },
  {
   "cell_type": "code",
   "execution_count": null,
   "metadata": {},
   "outputs": [],
   "source": []
  }
 ],
 "metadata": {
  "kernelspec": {
   "display_name": "Python 3",
   "language": "python",
   "name": "python3"
  },
  "language_info": {
   "codemirror_mode": {
    "name": "ipython",
    "version": 3
   },
   "file_extension": ".py",
   "mimetype": "text/x-python",
   "name": "python",
   "nbconvert_exporter": "python",
   "pygments_lexer": "ipython3",
   "version": "3.7.6"
  }
 },
 "nbformat": 4,
 "nbformat_minor": 4
}
